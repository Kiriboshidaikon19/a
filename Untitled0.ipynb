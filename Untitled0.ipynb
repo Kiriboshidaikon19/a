{
  "nbformat": 4,
  "nbformat_minor": 0,
  "metadata": {
    "colab": {
      "provenance": [],
      "authorship_tag": "ABX9TyPaHrgySXtbZdGb4aXYwre2",
      "include_colab_link": true
    },
    "kernelspec": {
      "name": "python3",
      "display_name": "Python 3"
    },
    "language_info": {
      "name": "python"
    }
  },
  "cells": [
    {
      "cell_type": "markdown",
      "metadata": {
        "id": "view-in-github",
        "colab_type": "text"
      },
      "source": [
        "<a href=\"https://colab.research.google.com/github/Kiriboshidaikon19/a/blob/main/Untitled0.ipynb\" target=\"_parent\"><img src=\"https://colab.research.google.com/assets/colab-badge.svg\" alt=\"Open In Colab\"/></a>"
      ]
    },
    {
      "cell_type": "code",
      "source": [
        "!pip install streamlit ngrok pyngrok"
      ],
      "metadata": {
        "colab": {
          "base_uri": "https://localhost:8080/"
        },
        "id": "rk17WCSXZGpU",
        "outputId": "6c8652bf-4edc-4b2b-afed-1770da3c0382"
      },
      "execution_count": null,
      "outputs": [
        {
          "output_type": "stream",
          "name": "stdout",
          "text": [
            "Collecting streamlit\n",
            "  Downloading streamlit-1.45.1-py3-none-any.whl.metadata (8.9 kB)\n",
            "Collecting ngrok\n",
            "  Downloading ngrok-1.4.0-cp37-abi3-manylinux_2_17_x86_64.manylinux2014_x86_64.whl.metadata (19 kB)\n",
            "Collecting pyngrok\n",
            "  Downloading pyngrok-7.2.11-py3-none-any.whl.metadata (9.4 kB)\n",
            "Requirement already satisfied: altair<6,>=4.0 in /usr/local/lib/python3.11/dist-packages (from streamlit) (5.5.0)\n",
            "Requirement already satisfied: blinker<2,>=1.5.0 in /usr/local/lib/python3.11/dist-packages (from streamlit) (1.9.0)\n",
            "Requirement already satisfied: cachetools<6,>=4.0 in /usr/local/lib/python3.11/dist-packages (from streamlit) (5.5.2)\n",
            "Requirement already satisfied: click<9,>=7.0 in /usr/local/lib/python3.11/dist-packages (from streamlit) (8.2.1)\n",
            "Requirement already satisfied: numpy<3,>=1.23 in /usr/local/lib/python3.11/dist-packages (from streamlit) (2.0.2)\n",
            "Requirement already satisfied: packaging<25,>=20 in /usr/local/lib/python3.11/dist-packages (from streamlit) (24.2)\n",
            "Requirement already satisfied: pandas<3,>=1.4.0 in /usr/local/lib/python3.11/dist-packages (from streamlit) (2.2.2)\n",
            "Requirement already satisfied: pillow<12,>=7.1.0 in /usr/local/lib/python3.11/dist-packages (from streamlit) (11.2.1)\n",
            "Requirement already satisfied: protobuf<7,>=3.20 in /usr/local/lib/python3.11/dist-packages (from streamlit) (5.29.5)\n",
            "Requirement already satisfied: pyarrow>=7.0 in /usr/local/lib/python3.11/dist-packages (from streamlit) (18.1.0)\n",
            "Requirement already satisfied: requests<3,>=2.27 in /usr/local/lib/python3.11/dist-packages (from streamlit) (2.32.3)\n",
            "Requirement already satisfied: tenacity<10,>=8.1.0 in /usr/local/lib/python3.11/dist-packages (from streamlit) (9.1.2)\n",
            "Requirement already satisfied: toml<2,>=0.10.1 in /usr/local/lib/python3.11/dist-packages (from streamlit) (0.10.2)\n",
            "Requirement already satisfied: typing-extensions<5,>=4.4.0 in /usr/local/lib/python3.11/dist-packages (from streamlit) (4.14.0)\n",
            "Collecting watchdog<7,>=2.1.5 (from streamlit)\n",
            "  Downloading watchdog-6.0.0-py3-none-manylinux2014_x86_64.whl.metadata (44 kB)\n",
            "\u001b[2K     \u001b[90m━━━━━━━━━━━━━━━━━━━━━━━━━━━━━━━━━━━━━━━━\u001b[0m \u001b[32m44.3/44.3 kB\u001b[0m \u001b[31m1.7 MB/s\u001b[0m eta \u001b[36m0:00:00\u001b[0m\n",
            "\u001b[?25hRequirement already satisfied: gitpython!=3.1.19,<4,>=3.0.7 in /usr/local/lib/python3.11/dist-packages (from streamlit) (3.1.44)\n",
            "Collecting pydeck<1,>=0.8.0b4 (from streamlit)\n",
            "  Downloading pydeck-0.9.1-py2.py3-none-any.whl.metadata (4.1 kB)\n",
            "Requirement already satisfied: tornado<7,>=6.0.3 in /usr/local/lib/python3.11/dist-packages (from streamlit) (6.4.2)\n",
            "Requirement already satisfied: PyYAML>=5.1 in /usr/local/lib/python3.11/dist-packages (from pyngrok) (6.0.2)\n",
            "Requirement already satisfied: jinja2 in /usr/local/lib/python3.11/dist-packages (from altair<6,>=4.0->streamlit) (3.1.6)\n",
            "Requirement already satisfied: jsonschema>=3.0 in /usr/local/lib/python3.11/dist-packages (from altair<6,>=4.0->streamlit) (4.24.0)\n",
            "Requirement already satisfied: narwhals>=1.14.2 in /usr/local/lib/python3.11/dist-packages (from altair<6,>=4.0->streamlit) (1.41.0)\n",
            "Requirement already satisfied: gitdb<5,>=4.0.1 in /usr/local/lib/python3.11/dist-packages (from gitpython!=3.1.19,<4,>=3.0.7->streamlit) (4.0.12)\n",
            "Requirement already satisfied: python-dateutil>=2.8.2 in /usr/local/lib/python3.11/dist-packages (from pandas<3,>=1.4.0->streamlit) (2.9.0.post0)\n",
            "Requirement already satisfied: pytz>=2020.1 in /usr/local/lib/python3.11/dist-packages (from pandas<3,>=1.4.0->streamlit) (2025.2)\n",
            "Requirement already satisfied: tzdata>=2022.7 in /usr/local/lib/python3.11/dist-packages (from pandas<3,>=1.4.0->streamlit) (2025.2)\n",
            "Requirement already satisfied: charset-normalizer<4,>=2 in /usr/local/lib/python3.11/dist-packages (from requests<3,>=2.27->streamlit) (3.4.2)\n",
            "Requirement already satisfied: idna<4,>=2.5 in /usr/local/lib/python3.11/dist-packages (from requests<3,>=2.27->streamlit) (3.10)\n",
            "Requirement already satisfied: urllib3<3,>=1.21.1 in /usr/local/lib/python3.11/dist-packages (from requests<3,>=2.27->streamlit) (2.4.0)\n",
            "Requirement already satisfied: certifi>=2017.4.17 in /usr/local/lib/python3.11/dist-packages (from requests<3,>=2.27->streamlit) (2025.4.26)\n",
            "Requirement already satisfied: smmap<6,>=3.0.1 in /usr/local/lib/python3.11/dist-packages (from gitdb<5,>=4.0.1->gitpython!=3.1.19,<4,>=3.0.7->streamlit) (5.0.2)\n",
            "Requirement already satisfied: MarkupSafe>=2.0 in /usr/local/lib/python3.11/dist-packages (from jinja2->altair<6,>=4.0->streamlit) (3.0.2)\n",
            "Requirement already satisfied: attrs>=22.2.0 in /usr/local/lib/python3.11/dist-packages (from jsonschema>=3.0->altair<6,>=4.0->streamlit) (25.3.0)\n",
            "Requirement already satisfied: jsonschema-specifications>=2023.03.6 in /usr/local/lib/python3.11/dist-packages (from jsonschema>=3.0->altair<6,>=4.0->streamlit) (2025.4.1)\n",
            "Requirement already satisfied: referencing>=0.28.4 in /usr/local/lib/python3.11/dist-packages (from jsonschema>=3.0->altair<6,>=4.0->streamlit) (0.36.2)\n",
            "Requirement already satisfied: rpds-py>=0.7.1 in /usr/local/lib/python3.11/dist-packages (from jsonschema>=3.0->altair<6,>=4.0->streamlit) (0.25.1)\n",
            "Requirement already satisfied: six>=1.5 in /usr/local/lib/python3.11/dist-packages (from python-dateutil>=2.8.2->pandas<3,>=1.4.0->streamlit) (1.17.0)\n",
            "Downloading streamlit-1.45.1-py3-none-any.whl (9.9 MB)\n",
            "\u001b[2K   \u001b[90m━━━━━━━━━━━━━━━━━━━━━━━━━━━━━━━━━━━━━━━━\u001b[0m \u001b[32m9.9/9.9 MB\u001b[0m \u001b[31m49.2 MB/s\u001b[0m eta \u001b[36m0:00:00\u001b[0m\n",
            "\u001b[?25hDownloading ngrok-1.4.0-cp37-abi3-manylinux_2_17_x86_64.manylinux2014_x86_64.whl (3.1 MB)\n",
            "\u001b[2K   \u001b[90m━━━━━━━━━━━━━━━━━━━━━━━━━━━━━━━━━━━━━━━━\u001b[0m \u001b[32m3.1/3.1 MB\u001b[0m \u001b[31m45.1 MB/s\u001b[0m eta \u001b[36m0:00:00\u001b[0m\n",
            "\u001b[?25hDownloading pyngrok-7.2.11-py3-none-any.whl (25 kB)\n",
            "Downloading pydeck-0.9.1-py2.py3-none-any.whl (6.9 MB)\n",
            "\u001b[2K   \u001b[90m━━━━━━━━━━━━━━━━━━━━━━━━━━━━━━━━━━━━━━━━\u001b[0m \u001b[32m6.9/6.9 MB\u001b[0m \u001b[31m66.5 MB/s\u001b[0m eta \u001b[36m0:00:00\u001b[0m\n",
            "\u001b[?25hDownloading watchdog-6.0.0-py3-none-manylinux2014_x86_64.whl (79 kB)\n",
            "\u001b[2K   \u001b[90m━━━━━━━━━━━━━━━━━━━━━━━━━━━━━━━━━━━━━━━━\u001b[0m \u001b[32m79.1/79.1 kB\u001b[0m \u001b[31m4.3 MB/s\u001b[0m eta \u001b[36m0:00:00\u001b[0m\n",
            "\u001b[?25hInstalling collected packages: watchdog, pyngrok, ngrok, pydeck, streamlit\n",
            "Successfully installed ngrok-1.4.0 pydeck-0.9.1 pyngrok-7.2.11 streamlit-1.45.1 watchdog-6.0.0\n"
          ]
        }
      ]
    },
    {
      "cell_type": "code",
      "source": [
        "%%writefile Untitled0.py\n",
        "!pip install streamlit\n",
        "\n",
        "import streamlit as st\n",
        "import pandas as pd\n",
        "import matplotlib.pyplot as plt\n",
        "import seaborn as sns\n",
        "\n",
        "# タイトル\n",
        "st.title('簡単なグラフ描画アプリ')\n",
        "\n",
        "# データの入力方法を選択\n",
        "data_source = st.radio(\"データの入力方法を選択してください\", ('CSVファイルをアップロード', '手動で入力'))\n",
        "\n",
        "if data_source == 'CSVファイルをアップロード':\n",
        "    uploaded_file = st.file_uploader(\"CSVファイルをアップロードしてください\", type=\"csv\")\n",
        "    if uploaded_file is not None:\n",
        "        try:\n",
        "            df = pd.read_csv(uploaded_file)\n",
        "            st.subheader(\"アップロードされたデータ\")\n",
        "            st.dataframe(df.head())\n",
        "\n",
        "            # グラフの種類を選択\n",
        "            graph_type = st.selectbox(\"グラフの種類を選択してください\", ('折れ線グラフ', '棒グラフ', '散布図', 'ヒストグラム', '箱ひげ図'))\n",
        "\n",
        "            # グラフ描画に必要な列を選択\n",
        "            if graph_type == '折れ線グラフ' or graph_type == '棒グラフ':\n",
        "                x_column = st.selectbox(\"X軸の列を選択してください\", df.columns)\n",
        "                y_column = st.selectbox(\"Y軸の列を選択してください\", df.columns)\n",
        "                if st.button('グラフを描画'):\n",
        "                    plt.figure(figsize=(10, 6))\n",
        "                    if graph_type == '折れ線グラフ':\n",
        "                        plt.plot(df[x_column], df[y_column])\n",
        "                        plt.xlabel(x_column)\n",
        "                        plt.ylabel(y_column)\n",
        "                        plt.title(f'{x_column} vs {y_column}')\n",
        "                    elif graph_type == '棒グラフ':\n",
        "                        plt.bar(df[x_column], df[y_column])\n",
        "                        plt.xlabel(x_column)\n",
        "                        plt.ylabel(y_column)\n",
        "                        plt.title(f'{x_column} vs {y_column}')\n",
        "                    st.pyplot(plt)\n",
        "            elif graph_type == '散布図':\n",
        "                x_column = st.selectbox(\"X軸の列を選択してください\", df.columns)\n",
        "                y_column = st.selectbox(\"Y軸の列を選択してください\", df.columns)\n",
        "                if st.button('グラフを描画'):\n",
        "                    plt.figure(figsize=(10, 6))\n",
        "                    plt.scatter(df[x_column], df[y_column])\n",
        "                    plt.xlabel(x_column)\n",
        "                    plt.ylabel(y_column)\n",
        "                    plt.title(f'{x_column} vs {y_column}')\n",
        "                    st.pyplot(plt)\n",
        "            elif graph_type == 'ヒストグラム':\n",
        "                column = st.selectbox(\"表示する列を選択してください\", df.columns)\n",
        "                if st.button('グラフを描画'):\n",
        "                    plt.figure(figsize=(10, 6))\n",
        "                    plt.hist(df[column], bins=10)\n",
        "                    plt.xlabel(column)\n",
        "                    plt.ylabel(\"頻度\")\n",
        "                    plt.title(f'{column}のヒストグラム')\n",
        "                    st.pyplot(plt)\n",
        "            elif graph_type == '箱ひげ図':\n",
        "                column = st.selectbox(\"表示する列を選択してください\", df.columns)\n",
        "                if st.button('グラフを描画'):\n",
        "                    plt.figure(figsize=(8, 6))\n",
        "                    sns.boxplot(y=df[column])\n",
        "                    plt.ylabel(column)\n",
        "                    plt.title(f'{column}の箱ひげ図')\n",
        "                    st.pyplot(plt)\n",
        "        except Exception as e:\n",
        "            st.error(f\"エラーが発生しました: {e}\")\n",
        "\n",
        "elif data_source == '手動で入力':\n",
        "    st.subheader(\"手動でデータを入力\")\n",
        "    data_text = st.text_area(\"カンマ区切りでデータを入力してください (例: x,y\\\\n1,2\\\\n3,4)\")\n",
        "    if st.button('データを処理'):\n",
        "        try:\n",
        "            from io import StringIO\n",
        "            df = pd.read_csv(StringIO(data_text), header=None, names=['x', 'y']) # 簡単のため2列固定\n",
        "            st.subheader(\"入力されたデータ\")\n",
        "            st.dataframe(df)\n",
        "\n",
        "            # 折れ線グラフを描画 (手動入力の場合は折れ線グラフのみ)\n",
        "            if st.button('折れ線グラフを描画'):\n",
        "                plt.figure(figsize=(10, 6))\n",
        "                plt.plot(df[0], df[1])\n",
        "                plt.xlabel(\"X\")\n",
        "                plt.ylabel(\"Y\")\n",
        "                plt.title(\"手動入力データによる折れ線グラフ\")\n",
        "                st.pyplot(plt)\n",
        "        except Exception as e:\n",
        "            st.error(f\"エラーが発生しました: {e}\")"
      ],
      "metadata": {
        "id": "bCDlJ6GOQlOQ",
        "colab": {
          "base_uri": "https://localhost:8080/"
        },
        "outputId": "c017af47-4a30-4ac9-883f-28b9a17b84ad"
      },
      "execution_count": null,
      "outputs": [
        {
          "output_type": "stream",
          "name": "stdout",
          "text": [
            "Overwriting Untitled0.py\n"
          ]
        }
      ]
    }
  ]
}